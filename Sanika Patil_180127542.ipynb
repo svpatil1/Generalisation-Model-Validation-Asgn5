{
 "cells": [
  {
   "cell_type": "markdown",
   "metadata": {},
   "source": [
    "# Generalization: Model Validation\n",
    "\n",
    "### 27th October 2015 Neil D. Lawrence"
   ]
  },
  {
   "cell_type": "markdown",
   "metadata": {},
   "source": [
    "If we had to summarise the objectives of machine learning in one word, a very good candidate for that word would be *generalization*. What is generalization? From a human perspective it might be summarised as the ability to take lessons learned in one domain and apply them to another domain. If we accept the definition given in the first session for machine learning, \n",
    "$$\n",
    "\\text{data} + \\text{model} \\xrightarrow{\\text{compute}} \\text{prediction}\n",
    "$$\n",
    "then we see that without a model we can't generalise: we only have data. Data is fine for answering very specific questions, like \"Who won the Olympic Marathon in 2012?\", because we have that answer stored, however, we are not given the answer to many other questions. For example, Alan Turing was a formidable marathon runner, in 1946 he ran a time 2 hours 46 minutes (just under four minutes per kilometer, faster than most of the other [Endcliffe Park Run](http://www.parkrun.org.uk/sheffieldhallam/) runners can do 5 km). What is the probability he would have won an Olympics if one had been held in 1946?  \n",
    "![Alan Turing, Times in the Times](http://www.turing.org.uk/turing/pi2/times2.gif)![Alan Turing running in 1946](http://www.turing.org.uk/turing/pi2/run.jpg)\n",
    "<center>*Alan Turing, in 1946 he was only 11 minutes slower than the winner of the 1948 games. Would he have won a hypothetical games held in 1946? Source: [Alan Turing Internet Scrapbook](http://www.turing.org.uk/scrapbook/run.html).*</center>\n",
    "To answer this question we need to generalize, but before we formalize the concept of generalization let's introduce some formal representation of what it means to generalize in machine learning.\n",
    "\n",
    "### Expected Loss\n",
    "\n",
    "Our objective function so far has been the negative log likelihood, which we have minimized (via the sum of squares error) to obtain our model. However, there is an alternative perspective on an objective function, that of a *loss function*. A loss function is a cost function associated with the penalty you might need to pay for a particular incorrect decision. One approach to machine learning involves specifying a loss function and considering how much a particular model is likely to cost us across its lifetime. We can represent this with an expectation. If our loss function is given as $L(y, x, \\mathbf{w})$ for a particular model that predicts $y$ given $x$ and $\\mathbf{w}$ then we are interested in minimizing the expected loss under the likely distribution of $y$ and $x$. To understand this formally we define the *true* distribution of the data samples, $y$, $x$. This is a very special distribution that we don't have access to very often, and to represent that we define it with a special letter 'P', $\\mathbb{P}(y, x)$. If we genuinely pay $L(y, x, \\mathbf{w})$ for every mistake we make, and the future test data is genuinely drawn from $\\mathbb{P}(y, x)$ then we can define our expected loss, or risk, to be,\n",
    "$$\n",
    "R(\\mathbf{w}) = \\int L(y, x, \\mathbf{w}) \\mathbb{P}(y, x) \\text{d}y \\text{d}x.\n",
    "$$\n",
    "Of course, in practice, this value can't be computed *but* it serves as a reminder of what it is we are aiming to minimize and under certain circumstances it can be approximated.\n",
    "\n",
    "### Sample Based Approximations\n",
    "\n",
    "A sample based approximation to an expectation involves replacing the true expectation with a sum over samples from the distribution. \n",
    "$$\n",
    "\\int f(z) p(z) \\text{d}y \\text{d}z\\approx \\frac{1}{s}\\sum_{i=1}^s f(z_i).\n",
    "$$\n",
    "if $\\{z_i\\}_{i=1}^s$ are a set of $s$ independent and identically distributed samples from the distribution $p(z)$. This approximation becomes better for larger $s$, although the *rate of convergence* to the true integral will be very dependent on the distribution $p(z)$ *and* the function $f(z)$. \n",
    "\n",
    "That said, this means we can approximate our true integral with the sum,\n",
    "$$\n",
    "R(\\mathbf{w}) \\approx \\frac{1}{n}\\sum_{i=1}^n L(y_i, x_i, \\mathbf{w}),\n",
    "$$\n",
    "if $y_i$ and $x_i$ are independent samples from the true distribution $\\mathbb{P}(y, x)$. Minimizing this sum directly is known as *empirical risk minimization*. The sum of squares error we have been using can be recovered for this case by considering a *squared loss*,\n",
    "$$\n",
    "L(y, x, \\mathbf{w}) = (y-\\mathbf{w}^\\top\\boldsymbol{\\phi}(x))^2\n",
    "$$\n",
    "which gives an empirical risk of the form\n",
    "$$\n",
    "R(\\mathbf{w}) \\approx \\frac{1}{n} \\sum_{i=1}^n (y_i - \\mathbf{w}^\\top \\boldsymbol{\\phi}(x_i))^2\n",
    "$$\n",
    "which up to the constant $\\frac{1}{n}$ is identical to the objective function we have been using so far.\n",
    "\n",
    "\n",
    "### Estimating Risk through Validation\n",
    "\n",
    "Unfortunately, minimising the empirial risk only guarantees something about our performance on the training data. If we don't have enough data for the approximation to the risk to be valid, then we can end up performing significantly worse on test data. Fortunately, we can also estimate the risk for test data through estimating the risk for unseen data.\n",
    "\n",
    "The main trick here is to 'hold out' a portion of our data from training and use the models performance on that sub-set of the data as a proxy for the true risk. This data is known as 'validation' data. It contrasts with test data, because it's values are known at the model design time. However, in contrast to test data we don't use it to fit our model. This means that it doesn't exhibit the same bias that the empirical risk does when estimating the true risk.\n",
    "\n",
    "In this lab we will explore techniques for model selection that make use of validation data. Data that isn't seen by the model in the learning (or fitting) phase, but is used to *validate* our choice of model from amongst the different designs we have selected.\n",
    "\n",
    "In machine learning, we are looking to minimise the value of our objective function $E$ with respect to its parameters $\\mathbf{w}$. We do this by considering our training data. We minimize the value of the objective function as it's observed at each training point. However we are really interested in how the model will perform on future data. For evaluating that we choose to *hold out* a portion of the data for evaluating the quality of the model.\n",
    "\n",
    "We will review the different methods of model selection on the Olympics marathon data. Firstly we import the olympics data. "
   ]
  },
  {
   "cell_type": "code",
   "execution_count": 80,
   "metadata": {},
   "outputs": [],
   "source": [
    "import numpy as np\n",
    "import pods\n",
    "data = pods.datasets.olympic_marathon_men()\n",
    "x = data['X']\n",
    "y = data['Y']\n",
    "# print(x)\n",
    "# print(y)\n",
    "# print(x.shape[0])"
   ]
  },
  {
   "cell_type": "markdown",
   "metadata": {},
   "source": [
    "We can plot them to check that they've loaded in correctly.\n"
   ]
  },
  {
   "cell_type": "code",
   "execution_count": 81,
   "metadata": {},
   "outputs": [
    {
     "data": {
      "text/plain": [
       "[<matplotlib.lines.Line2D at 0x119f2aa20>]"
      ]
     },
     "execution_count": 81,
     "metadata": {},
     "output_type": "execute_result"
    },
    {
     "data": {
      "image/png": "[encoded data removed]",
      "text/plain": [
       "<matplotlib.figure.Figure at 0x119f69208>"
      ]
     },
     "metadata": {},
     "output_type": "display_data"
    }
   ],
   "source": [
    "%matplotlib inline\n",
    "import pylab as plt\n",
    "plt.plot(x, y, 'rx')"
   ]
  },
  {
   "cell_type": "markdown",
   "metadata": {},
   "source": [
    "## Hold Out Validation\n",
    "\n",
    "The first thing we'll do is fit a standard linear model to the data. We recall from previous lectures and lab classes that to do this we need to solve the system\n",
    "$$\n",
    "\\boldsymbol{\\Phi}^\\top \\boldsymbol{\\Phi} \\mathbf{w} = \\boldsymbol{\\Phi}^\\top \\mathbf{y}\n",
    "$$\n",
    "for $\\mathbf{w}$  and use the resulting vector to make predictions at the training points and test points,\n",
    "$$\n",
    "\\mathbf{f} = \\boldsymbol{\\Phi} \\mathbf{w}.\n",
    "$$\n",
    "The prediction function can be used to compute the objective function,\n",
    "$$\n",
    "E(\\mathbf{w}) = \\sum_{i}^n (y_i - \\mathbf{w}^\\top\\phi(\\mathbf{x}_i))^2\n",
    "$$\n",
    "by substituting in the prediction in vector form we have\n",
    "$$\n",
    "E(\\mathbf{w}) =  (\\mathbf{y} - \\mathbf{f})^\\top(\\mathbf{y} - \\mathbf{f})\n",
    "$$"
   ]
  },
  {
   "cell_type": "markdown",
   "metadata": {},
   "source": [
    "### Assignment Question 1\n",
    "\n",
    "In this question you will construct some flexible general code for fitting linear models.\n",
    "\n",
    "Create a python function that computes $\\boldsymbol{\\Phi}$ for the linear basis,\n",
    "$$\\boldsymbol{\\Phi} = \\begin{bmatrix} \\mathbf{x} & \\mathbf{1}\\end{bmatrix}$$\n",
    "Name your function `linear`. `Phi` should be in the form of a *design matrix* and `x` should be in the form of a `numpy` two dimensional array with $n$ rows and 1 column\n",
    "Calls to your function should be in the following form:\n",
    "\n",
    "```python\n",
    "Phi = linear(x)\n",
    "```\n",
    "\n",
    "Create a python function that accepts, as arguments, a python function that defines a basis (like the one you've just created called `linear`) as well as a set of inputs and a vector of parameters. Your new python function should return a prediction. Name your function `prediction`. The return value `f` should be a two dimensional `numpy` array with $n$ rows and $1$ column, where $n$ is the number of data points. Calls to your function should be in the following form:\n",
    "\n",
    "```python\n",
    "f = prediction(w, x, linear)\n",
    "```\n",
    "\n",
    "Create a python function that computes the sum of squares objective function (or error function). It should accept your input data (or covariates) and target data (or response variables) and your parameter vector `w` as arguments. It should also accept a python function that represents the basis. Calls to your function should be in the following form:\n",
    "\n",
    "```python\n",
    "e = objective(w, x, y, linear)\n",
    "```\n",
    "\n",
    "Create a function that solves the linear system for the set of parameters that minimizes the sum of squares objective. It should accept input data, target data and a python function for the basis as the inputs. Calls to your function should be in the following form:\n",
    "\n",
    "```python\n",
    "w = fit(x, y, linear)\n",
    "```\n",
    "\n",
    "Fit a linear model to the olympic data using these functions and plot the resulting prediction between 1890 and 2020. Set the title of the plot to be the error of the fit on the *training data*.\n",
    "\n",
    "*15 marks*"
   ]
  },
  {
   "cell_type": "code",
   "execution_count": 82,
   "metadata": {},
   "outputs": [
    {
     "name": "stdout",
     "output_type": "stream",
     "text": [
      "Error for linear function basis: [1.97998377]\n"
     ]
    },
    {
     "data": {
      "image/png": "[encoded data removed]",
      "text/plain": [
       "<matplotlib.figure.Figure at 0x119db54a8>"
      ]
     },
     "metadata": {},
     "output_type": "display_data"
    }
   ],
   "source": [
    "#### Question 1 Answer Code\n",
    "# Write code for you answer to this question in this box\n",
    "# Do not delete these comments, otherwise you will get zero for this answer.\n",
    "# Make sure your code has run and the answer is correct *before* submitting your notebook for marking.\n",
    "\n",
    "import numpy as np\n",
    "import scipy as sp\n",
    "\n",
    "# function for linear basis\n",
    "def linear(x):\n",
    "    Linear_Basis = np.hstack([np.ones((x.shape[0], 1)), x])\n",
    "    return Linear_Basis\n",
    "\n",
    "# function to solve linear system\n",
    "def fit(x,y,function):\n",
    "    Phi = function(x)\n",
    "    Q, R = np.linalg.qr(Phi)\n",
    "    w = sp.linalg.solve_triangular(R, np.dot(Q.T, y))\n",
    "    return w\n",
    "w = fit(x,y,linear)\n",
    "\n",
    "#Objective function\n",
    "def objective(w,x,y,function):\n",
    "    Phi = function(x)\n",
    "    predict_Y=np.matmul(Phi,w)\n",
    "    error_array= predict_Y-y\n",
    "    #print(error)\n",
    "    error_square = np.square(error_array)\n",
    "    error=sum(error_square)\n",
    "    return error\n",
    "e = objective(w,x,y,linear)\n",
    "print(\"Error for linear function basis:\",e)\n",
    "\n",
    "# to plot the resulting prediction between 1890 and 2020\n",
    "n = 27\n",
    "x = np.zeros((n, 1))  # create a data set of zeros\n",
    "x[:, 0] = np.linspace(1890, 2020, x.shape[0]) \n",
    "#print(x)\n",
    "\n",
    "# Prediction function\n",
    "def prediction(w,x,function):\n",
    "    Phi = function(x)\n",
    "    f = np.dot(Phi, w)\n",
    "    return f\n",
    "f = prediction(w,x,linear)\n",
    "\n",
    "\n",
    "#to plot the error on the training data\n",
    "plt.plot(x, y, 'rx', label = 'Actual data')\n",
    "plt.plot(x,f,'g' ,label = 'Prediction')\n",
    "plt.title(\"Error of the fit on training data\",loc='center')\n",
    "plt.legend()\n",
    "plt.show()\n"
   ]
  },
  {
   "cell_type": "markdown",
   "metadata": {},
   "source": [
    "## Polynomial Fit: Training Error\n",
    "\n",
    "The next thing we'll do is consider a quadratic fit. We will compute the training error for the two fits.\n"
   ]
  },
  {
   "cell_type": "markdown",
   "metadata": {},
   "source": [
    "### Assignment Question 2\n",
    "\n",
    "In this question we extend the code above to a non-linear basis (a quadratic function).\n",
    "\n",
    "Start by creating a python-function called `quadratic`. It should compute the quadratic basis.\n",
    "$$\\boldsymbol{\\Phi} = \\begin{bmatrix} \\mathbf{1} & \\mathbf{x} & \\mathbf{x}^2\\end{bmatrix}$$\n",
    "It should be called in the following form:\n",
    "```python\n",
    "Phi = quadratic(x)\n",
    "```\n",
    "Use this to compute the quadratic fit for the model, again plotting the result titled by the error.\n",
    "\n",
    "*10 marks*"
   ]
  },
  {
   "cell_type": "code",
   "execution_count": 83,
   "metadata": {},
   "outputs": [
    {
     "name": "stdout",
     "output_type": "stream",
     "text": [
      "Error for quadratic function basis: [1.13996589]\n"
     ]
    },
    {
     "data": {
      "image/png": "[encoded data removed]",
      "text/plain": [
       "<matplotlib.figure.Figure at 0x119cd8ac8>"
      ]
     },
     "metadata": {},
     "output_type": "display_data"
    }
   ],
   "source": [
    "#### Question 2 Answer Code\n",
    "# Write code for you answer to this question in this box\n",
    "# Do not delete these comments, otherwise you will get zero for this answer.\n",
    "# Make sure your code has run and the answer is correct *before* submitting your notebook for marking.\n",
    "\n",
    "\n",
    "\n",
    "# quadratic function basis\n",
    "def quadratic(x):\n",
    "    quadratic_basis =  np.hstack([np.ones((x.shape[0], 1)), x, x**2])\n",
    "    return quadratic_basis\n",
    "\n",
    "w=fit(x,y,quadratic)\n",
    "\n",
    "e=objective(w,x,y,quadratic)\n",
    "print(\"Error for quadratic function basis:\",e)\n",
    "\n",
    "## to plot the resulting prediction between 1890 and 2020\n",
    "n = 27\n",
    "x = np.zeros((n, 1))  # create a data set of zeros\n",
    "x[:, 0] = np.linspace(1890, 2020, x.shape[0]) \n",
    "\n",
    "f=prediction(w,x,quadratic)\n",
    "\n",
    "plt.plot(x, y, 'rx', label = 'Actual data')\n",
    "plt.plot(x,f,'g' ,label = 'Prediction')\n",
    "plt.title(\"Error of the fit on training data\",loc='center')\n",
    "plt.legend()\n",
    "plt.show()"
   ]
  },
  {
   "cell_type": "markdown",
   "metadata": {},
   "source": [
    "### Hold Out Data\n",
    "\n",
    "You have a conclusion as to which model fits best under the training error, but how do the two models perform in terms of validation? In this section we consider *hold out* validation. In hold out validation we remove a portion of the training data for *validating* the model on. The remaining data is used for fitting the model (training). Because this is a time series prediction, it makes sense for us to hold out data at the end of the time series. This means that we are validating on future predictions. We will hold out data from after 1980 and fit the model to the data before 1980. "
   ]
  },
  {
   "cell_type": "code",
   "execution_count": 149,
   "metadata": {},
   "outputs": [],
   "source": [
    "data = pods.datasets.olympic_marathon_men()\n",
    "x = data['X']\n",
    "y = data['Y']"
   ]
  },
  {
   "cell_type": "code",
   "execution_count": 150,
   "metadata": {},
   "outputs": [],
   "source": [
    "# select indices of data to 'hold out'\n",
    "indices_hold_out = np.flatnonzero(x>1980)\n",
    "\n",
    "# Create a training set\n",
    "x_train = np.delete(x, indices_hold_out, axis=0)\n",
    "y_train = np.delete(y, indices_hold_out, axis=0)\n",
    "\n",
    "# print(x_train)\n",
    "# print(y_train)\n",
    "# Create a hold out set\n",
    "x_valid = np.take(x, indices_hold_out, axis=0)\n",
    "y_valid = np.take(y, indices_hold_out, axis=0)\n",
    "# print(x_valid)\n",
    "# print(y_valid)"
   ]
  },
  {
   "cell_type": "markdown",
   "metadata": {},
   "source": [
    "### Assignment Question 3\n",
    "\n",
    "For both the linear and quadratic models, fit the model to the data up until 1980 and then compute the error on the held out data (from 1980 onwards). Which model performs better on the validation data?\n",
    "\n",
    "*10 marks*"
   ]
  },
  {
   "cell_type": "code",
   "execution_count": 151,
   "metadata": {},
   "outputs": [
    {
     "name": "stdout",
     "output_type": "stream",
     "text": [
      "Validation error for quadratic function basis: [0.33750582]\n"
     ]
    },
    {
     "data": {
      "image/png": "[encoded data removed]",
      "text/plain": [
       "<matplotlib.figure.Figure at 0x119cf62b0>"
      ]
     },
     "metadata": {},
     "output_type": "display_data"
    },
    {
     "name": "stdout",
     "output_type": "stream",
     "text": [
      "Validation error for linear function basis: [1.91159725]\n"
     ]
    },
    {
     "data": {
      "image/png": "[encoded data removed]",
      "text/plain": [
       "<matplotlib.figure.Figure at 0x119b11c50>"
      ]
     },
     "metadata": {},
     "output_type": "display_data"
    }
   ],
   "source": [
    "#### Question 3 Answer Code\n",
    "# Write code for you answer to this question in this box\n",
    "# Do not delete these comments, otherwise you will get zero for this answer.\n",
    "# Make sure your code has run and the answer is correct *before* submitting your notebook for marking.\n",
    "\n",
    "## for quadratic\n",
    "Phi = quadratic(x_train)\n",
    "\n",
    "w = fit(x_train,y_train,quadratic)\n",
    "\n",
    "f = prediction(w,x_train,quadratic)\n",
    "\n",
    "e = objective(w,x_valid,y_valid,quadratic)\n",
    "print(\"Validation error for quadratic function basis:\",e)\n",
    "\n",
    "plt.plot(x_train, y_train, 'rx', label = 'Actual data')\n",
    "plt.plot(x_train,f,'g' ,label = 'Prediction')\n",
    "plt.title(\"Error of the linear fit on training data\",loc='center')\n",
    "plt.legend()\n",
    "plt.show()\n",
    "\n",
    "## for linear\n",
    "Phi = linear(x_train)\n",
    "\n",
    "w = fit(x_train,y_train,linear)\n",
    "\n",
    "f = prediction(w,x_train,linear)\n",
    "\n",
    "e = objective(w,x_valid,y_valid,linear)\n",
    "print(\"Validation error for linear function basis:\",e)\n",
    "\n",
    "plt.plot(x_train, y_train, 'rx', label = 'Actual data')\n",
    "plt.plot(x_train,f,'g' ,label = 'Prediction')\n",
    "plt.title(\"Error of the linear fit on training data\",loc='center')\n",
    "plt.legend()\n",
    "plt.show()\n"
   ]
  },
  {
   "cell_type": "markdown",
   "metadata": {},
   "source": [
    "A quadratic model ( i.e non-linear ) performs better on validation data. The error for quadratic model is less than the error calculated on linear model."
   ]
  },
  {
   "cell_type": "markdown",
   "metadata": {},
   "source": [
    "### Richer Basis Set\n",
    "\n",
    "Now we have an approach for deciding which model to retain, we can consider the entire family of polynomial bases, with arbitrary degrees.  "
   ]
  },
  {
   "cell_type": "markdown",
   "metadata": {},
   "source": [
    "### Assignment Question 4\n",
    "\n",
    "Now we are going to build a more sophisticated form of basis function, one that can accept arguments to its inputs (similar to those we used in the lab for week 4). Here we will start with a polynomial basis.\n",
    "\n",
    "```python\n",
    "def polynomial(x, degree, loc, scale):\n",
    "    degrees = np.arange(degree+1)\n",
    "    return ((x-loc)/scale)**degrees\n",
    "```\n",
    "The basis as we've defined it has three arguments as well as the input. The degree of the polynomial, the scale of the polynomial and the offset. These arguments need to be passed to the basis functions whenever they are called. Modify your code to pass these additional arguments to the python function for creating the basis. Do this for each of your functions `predict`, `fit` and `objective`. You will find `*args` (or `**kwargs`) useful.\n",
    "\n",
    "Write code that tries to fit different models to the data with polynomial basis. Use a maximum degree for your basis from 0 to 17. For each polynomial store the *hold out validation error* and the *training error*. When you have finished the computation plot the hold out error for your models and the training error for your p. When computing your polynomial basis use `offset=1956.` and `scale=120.` to ensure that the data is mapped (roughly) to the -1, 1 range.\n",
    "\n",
    "Which polynomial has the minimum training error? Which polynomial has the minimum validation error?\n",
    "\n",
    "*25 marks*"
   ]
  },
  {
   "cell_type": "code",
   "execution_count": 88,
   "metadata": {},
   "outputs": [
    {
     "name": "stdout",
     "output_type": "stream",
     "text": [
      "training error:  [5.73633101 1.39277676 1.09853619 1.04391283 1.02421204 0.81024233\n",
      " 0.62871914 0.61028718 0.60885646 0.59716912 0.31872186 0.19660845\n",
      " 0.17420496 0.12946309 0.11103966 0.02684199 0.02551225 0.02475844]\n",
      "holdout validation error:  [2.81331280e+00 1.91159725e+00 3.37505824e-01 2.51374553e+00\n",
      " 2.63705749e+01 8.45275311e+02 4.48628466e+03 7.64335183e+02\n",
      " 1.16058247e+04 5.21645449e+05 1.40450658e+08 4.05080391e+08\n",
      " 7.18696233e+08 7.37586150e+10 1.36873209e+11 4.92347181e+13\n",
      " 9.10885191e+12 7.89753560e+14]\n"
     ]
    },
    {
     "data": {
      "image/png": "[encoded data removed]",
      "text/plain": [
       "<matplotlib.figure.Figure at 0x119b77b00>"
      ]
     },
     "metadata": {},
     "output_type": "display_data"
    }
   ],
   "source": [
    "#### Question 4 Answer Code\n",
    "# Write code for you answer to this question in this box\n",
    "# Do not delete these comments, otherwise you will get zero for this answer.\n",
    "# Make sure your code has run and the answer is correct *before* submitting your notebook for marking.\n",
    "\n",
    "def polynomial(x, degree, loc, scale):\n",
    "    #print(x)\n",
    "    degrees = np.arange(degree+1)\n",
    "    return ((x-loc)/scale)**degrees\n",
    "\n",
    "# function to solve linear system\n",
    "def fit(x,y,function,**kwargs):\n",
    "    Phi = function(x,**kwargs)\n",
    "    Q, R = np.linalg.qr(Phi)\n",
    "    w = sp.linalg.solve_triangular(R, np.dot(Q.T, y)) \n",
    "    return w\n",
    "\n",
    "# Prediction function\n",
    "def prediction(w,x,function,**kwargs):\n",
    "    Phi = function(x,**kwargs)\n",
    "    f = np.dot(Phi, w)\n",
    "    return f\n",
    "\n",
    "#Objective function\n",
    "def objective(w,x,y,function,**kwargs):\n",
    "    Phi = function(x,**kwargs)\n",
    "    predict_Y=np.matmul(Phi,w)\n",
    "    error_array= predict_Y-y\n",
    "    #print(error)\n",
    "    error_square = np.square(error_array)\n",
    "    error=sum(error_square)\n",
    "    return error\n",
    "\n",
    "train_err = []\n",
    "e_valid = []\n",
    "x_axis = []\n",
    "for i in range(18):\n",
    "          # for training data\n",
    "    w = fit(x_train,y_train,function = polynomial,degree = i,loc = 1956,scale = 120)\n",
    "    f = prediction(w,x_train,function = polynomial,degree = i,loc = 1956,scale = 120)\n",
    "    e = objective(w,x_train,y_train,function = polynomial,degree = i,loc = 1956,scale = 120)\n",
    "    train_err = np.append(train_err,e)\n",
    "      \n",
    "        # error for validation data\n",
    "    \n",
    "    e = objective(w,x_valid,y_valid,function = polynomial,degree = i,loc = 1956,scale = 120)\n",
    "    e_valid = np.append(e_valid,e)\n",
    "    \n",
    "    x_axis = np.append(x_axis,i)\n",
    "print(\"training error: \",train_err)\n",
    "print(\"holdout validation error: \",e_valid)\n",
    "#print(x_axis.astype(int))\n",
    "\n",
    "\n",
    "# to plot errors\n",
    "fig, ax = plt.subplots(figsize=(12,4))\n",
    "ax.set_xlim(0,17)\n",
    "plt.plot(x_axis, train_err, 'ro', label = 'Training error')\n",
    "plt.plot(x_axis,e_valid,'g' ,label = 'Holdout validation error')\n",
    "plt.legend()\n",
    "plt.show()\n"
   ]
  },
  {
   "cell_type": "markdown",
   "metadata": {},
   "source": [
    "As you can see from the above training error and holdout validation error,\n",
    "\n",
    "1. Polynomial with degree 17 has minimum training error ( error = 0.02475844 )\n",
    "2. Polynomial with degree 2 has minimum validation error ( error =  3.37505824e-01 )\n"
   ]
  },
  {
   "cell_type": "code",
   "execution_count": 89,
   "metadata": {},
   "outputs": [
    {
     "data": {
      "text/plain": [
       "array([5.73633101, 1.39277676, 1.09853619, 1.04391283, 1.02421204,\n",
       "       0.81024233, 0.62871914, 0.61028718, 0.60885646, 0.59716912,\n",
       "       0.31872186, 0.19660845, 0.17420496, 0.12946309, 0.11103966,\n",
       "       0.02684199, 0.02551225, 0.02475844])"
      ]
     },
     "execution_count": 89,
     "metadata": {},
     "output_type": "execute_result"
    }
   ],
   "source": [
    "train_err"
   ]
  },
  {
   "cell_type": "markdown",
   "metadata": {},
   "source": [
    "## Leave One Out Validation\n",
    "\n",
    "Hold out validation uses a portion of the data to hold out and a portion of the data to train on. There is always a compromise between how much data to hold out and how much data to train on. The more data you hold out, the better the estimate of your performance at 'run-time' (when the model is used to make predictions in real applications). However, by holding out more data, you leave less data to train on, so you have a better validation, but a poorer quality model fit than you could have had if you'd used all the data for training. Leave one out cross validation leaves as much data in the training phase as possible: you only take *one point* out for your validation set. However, if you do this for hold-out validation, then the quality of your validation error is very poor because you are testing the model quality on one point only. In *cross validation* the approach is to improve this estimate by doing more than one model fit. In *leave one out cross validation* you fit $n$ different models, where $n$ is the number of your data. For each model fit you take out one data point, and train the model on the remaining $n-1$ data points. You validate the model on the data point you've held out, but you do this $n$ times, once for each different model. You then take the *average* of all the $n$ badly estimated hold out validation errors. The average of this estimate is a good estimate of performance of those models on the test data. "
   ]
  },
  {
   "cell_type": "markdown",
   "metadata": {},
   "source": [
    "### Assignment Question 5\n",
    "\n",
    "Write code that computes the *leave one out* validation error for the olympic data and the polynomial basis. Use the functions you have created above: `objective`, `fit`, `polynomial`. Compute the *leave-one-out* cross validation error for basis functions containing a maximum degree from 0 to 17.\n",
    "\n",
    "*20 marks*"
   ]
  },
  {
   "cell_type": "code",
   "execution_count": 90,
   "metadata": {},
   "outputs": [
    {
     "name": "stdout",
     "output_type": "stream",
     "text": [
      "Error for polynomial with degree 0 0.30842185819058876\n",
      "Error for polynomial with degree 1 0.09060070816797527\n",
      "Error for polynomial with degree 2 0.05794992394529426\n",
      "Error for polynomial with degree 3 0.059807050684709914\n",
      "Error for polynomial with degree 4 0.06927418752471837\n",
      "Error for polynomial with degree 5 0.08836110587080215\n",
      "Error for polynomial with degree 6 0.08192830192026959\n",
      "Error for polynomial with degree 7 0.05811513386611223\n",
      "Error for polynomial with degree 8 0.12260215748823937\n",
      "Error for polynomial with degree 9 0.3717879264798465\n",
      "Error for polynomial with degree 10 1.044907585148868\n",
      "Error for polynomial with degree 11 2.5644046544758363\n",
      "Error for polynomial with degree 12 5.459390485623402\n",
      "Error for polynomial with degree 13 8.319010740490059\n",
      "Error for polynomial with degree 14 5.055256228638946\n",
      "Error for polynomial with degree 15 31.792279880366497\n",
      "Error for polynomial with degree 16 111.92585312413618\n",
      "Error for polynomial with degree 17 447.8468363396147\n"
     ]
    },
    {
     "data": {
      "image/png": "[encoded data removed]",
      "text/plain": [
       "<matplotlib.figure.Figure at 0x119c38e10>"
      ]
     },
     "metadata": {},
     "output_type": "display_data"
    }
   ],
   "source": [
    "#### Question 5 Answer Code\n",
    "# Write code for you answer to this question in this box\n",
    "# Do not delete these comments, otherwise you will get zero for this answer.\n",
    "# Make sure your code has run and the answer is correct *before* submitting your notebook for marking.\n",
    "\n",
    "\n",
    "leaveOut_err = []\n",
    "for j in range(18):\n",
    "    error = []\n",
    "    for i in range(27):\n",
    "        x_train = np.delete(x,i)\n",
    "        #print(x_train1.shape)\n",
    "        #print(type(x_train))\n",
    "        #print(x_train.shape)\n",
    "        y_train = np.delete(y,i)\n",
    "#         print(x_train)\n",
    "#         print(y_train)\n",
    "        x_train = np.reshape(x_train, (26,1))\n",
    "        y_train = np.reshape(y_train, (26,1))\n",
    "        #print(x_train.shape)\n",
    "        w = fit(x_train,y_train,function = polynomial,degree = j,loc = 1956,scale = 120)\n",
    "        f = prediction(w,x_train,function = polynomial,degree = j,loc = 1956,scale = 120)\n",
    "        e = objective(w,x[i],y[i],function = polynomial,degree = j,loc = 1956,scale = 120)\n",
    "        error = np.append(error,e)\n",
    "        #print(error)\n",
    "    error_sum = np.sum(error)\n",
    "    error_avg = error_sum/x.shape[0]\n",
    "    leaveOut_err.append(error_avg)\n",
    "    print(\"Error for polynomial with degree\",j,error_avg)\n",
    " \n",
    "plt.plot(leaveOut_err, 'r', label = 'Leave One Out Validation error')\n",
    "plt.legend()\n",
    "plt.show()\n"
   ]
  },
  {
   "cell_type": "markdown",
   "metadata": {},
   "source": [
    "## $k$-fold Cross Validation\n",
    "\n",
    "Leave one out cross validation produces a very good estimate of the performance at test time, and is particularly useful if you don't have a lot of data. In these cases you need to make as much use of your data for model fitting as possible, and having a large hold out data set (to validate model performance) can have a significant effect on the size of the data set you have to fit your model, and correspondingly, the complexity of the model you can fit. However, leave one out cross validation involves fitting $n$ models, where $n$ is your number of training data. For the olympics example, this is only 27 model fits, but in practice many data sets consist thousands or millions of data points, and fitting many millions of models for estimating validation error isn't really practical. One option is to return to *hold out* validation, but another approach is to perform $k$-fold cross validation. In $k$-fold cross validation you split your data into $k$ parts. Then you use $k-1$ of those parts for training, and hold out one part for validation. Just like we did for the hold out validation above. In *cross* validation, however, you repeat this process. You swap the part of the data you just used for validation back in to the training set and select another part for validation. You then fit the model to the new training data and validate on the portion of data you've just extracted. Each split of training/validation data is called a *fold* and since you do this process $k$ times, the procedure is known as $k$-fold cross validation. The term *cross* refers to the fact that you cross over your validation portion back into the training data every time you perform a fold.  "
   ]
  },
  {
   "cell_type": "markdown",
   "metadata": {},
   "source": [
    "### Assignment Question 6\n",
    "\n",
    "Perform $k$-fold cross validation on the olympic data with your polynomial basis. Use $k$ set to 5 (e.g. five fold cross validation). Do the different forms of validation select different models? Does five fold cross validation always select the same model?\n",
    "\n",
    "*20 marks*"
   ]
  },
  {
   "cell_type": "markdown",
   "metadata": {},
   "source": [
    "*Note*: The data doesn't divide into 5 equal size partitions for the five fold cross validation error. Don't worry about this too much. Two of the partitions will have an extra data point. You might find `np.random.permutation?` useful."
   ]
  },
  {
   "cell_type": "code",
   "execution_count": 147,
   "metadata": {},
   "outputs": [
    {
     "name": "stdout",
     "output_type": "stream",
     "text": [
      "5-Fold Cross Validation Error for polynomial with degree 0 is 0.3555757635796571\n",
      "5-Fold Cross Validation Error for polynomial with degree 1 is 0.08933267371535439\n",
      "5-Fold Cross Validation Error for polynomial with degree 2 is 0.06683162138702482\n",
      "5-Fold Cross Validation Error for polynomial with degree 3 is 0.08549005302102122\n",
      "5-Fold Cross Validation Error for polynomial with degree 4 is 0.07319748374072978\n",
      "5-Fold Cross Validation Error for polynomial with degree 5 is 0.4437946343807211\n",
      "5-Fold Cross Validation Error for polynomial with degree 6 is 0.07207594891642836\n",
      "5-Fold Cross Validation Error for polynomial with degree 7 is 0.06286245221634877\n",
      "5-Fold Cross Validation Error for polynomial with degree 8 is 0.21744841754783942\n",
      "5-Fold Cross Validation Error for polynomial with degree 9 is 0.5751435208786084\n",
      "5-Fold Cross Validation Error for polynomial with degree 10 is 1.3683563067294047\n",
      "5-Fold Cross Validation Error for polynomial with degree 11 is 38.723104681584765\n",
      "5-Fold Cross Validation Error for polynomial with degree 12 is 5.414921543898465\n",
      "5-Fold Cross Validation Error for polynomial with degree 13 is 20.26618503602342\n",
      "5-Fold Cross Validation Error for polynomial with degree 14 is 545.5500703153058\n",
      "5-Fold Cross Validation Error for polynomial with degree 15 is 1589.4684727835383\n",
      "5-Fold Cross Validation Error for polynomial with degree 16 is 108.39009193183131\n",
      "5-Fold Cross Validation Error for polynomial with degree 17 is 276.5125684256241\n"
     ]
    },
    {
     "data": {
      "image/png": "[encoded data removed]",
      "text/plain": [
       "<matplotlib.figure.Figure at 0x181e7fb208>"
      ]
     },
     "metadata": {},
     "output_type": "display_data"
    }
   ],
   "source": [
    "#### Question 6 Answer Code\n",
    "# Write code for you answer to this question in this box\n",
    "# Do not delete these comments, otherwise you will get zero for this answer.\n",
    "# Make sure your code has run and the answer is correct *before* submitting your notebook for marking.\n",
    "\n",
    "k_fold = 5\n",
    "k_fold_error = []\n",
    "\n",
    "for j in range (0,18):\n",
    "    ind = np.random.permutation(27)\n",
    "    ind_split = np.split(ind,[5,10,15,21,27])\n",
    "    error = []\n",
    "    for i in range(0,k_fold):\n",
    "        # training data for fold i+1\n",
    "        x_train = np.delete(x, ind_split[i], axis=0)\n",
    "        y_train = np.delete(y, ind_split[i], axis=0)\n",
    "        \n",
    "        # validation data for fold i+1\n",
    "        x_valid = np.take(x, ind_split[i], axis=0)\n",
    "        y_valid = np.take(y, ind_split[i], axis=0)\n",
    "        \n",
    "        w = fit(x_train,y_train,function = polynomial,degree=j,loc = 1956,scale = 120)\n",
    "        f = prediction(w,x_train,function = polynomial,degree = j,loc = 1956,scale = 120)\n",
    "        e = objective(w,x_valid,y_valid,function = polynomial,degree = j,loc = 1956,scale = 120)\n",
    "        error = np.append(error,e)\n",
    "    error_sum = np.sum(error)\n",
    "    error_avg = error_sum/x.shape[0]\n",
    "    k_fold_error.append(error_avg)\n",
    "    print('5-Fold Cross Validation Error for polynomial with degree',j,'is', error_avg)\n",
    "    \n",
    "plt.plot(k_fold_error, 'r', label = '5-fold Validation error')\n",
    "plt.legend()\n",
    "plt.show()"
   ]
  },
  {
   "cell_type": "markdown",
   "metadata": {},
   "source": [
    "From above observations we can see that different forms of validation selects different model. In leave one out validation, the polynomial with degree 2 gives least error, while in 5-fold cross validation the polynomial with degree 7 gives least error. But this observation may vary as we run the code for 5-fold validation multiple times. Because we have shuffled the dataset randomly. In one of my run, I also found that that different forms of validation selects same model ( like leave one out with degree 2 and k-fold also with degree 2 )\n",
    "\n",
    "Also, for k-fold cross validation, same model is not selected everytime we run the code for 5-fold cross validation. As we have randomized the dataset to calculate training and test dataset. So the average error will vary as we run it multiple times, giving different models each time."
   ]
  }
 ],
 "metadata": {
  "kernelspec": {
   "display_name": "Python 3",
   "language": "python",
   "name": "python3"
  },
  "language_info": {
   "codemirror_mode": {
    "name": "ipython",
    "version": 3
   },
   "file_extension": ".py",
   "mimetype": "text/x-python",
   "name": "python",
   "nbconvert_exporter": "python",
   "pygments_lexer": "ipython3",
   "version": "3.6.4"
  }
 },
 "nbformat": 4,
 "nbformat_minor": 1
}
